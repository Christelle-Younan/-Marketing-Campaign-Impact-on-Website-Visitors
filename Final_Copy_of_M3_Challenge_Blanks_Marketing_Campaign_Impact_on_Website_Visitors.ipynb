{
  "nbformat": 4,
  "nbformat_minor": 0,
  "metadata": {
    "colab": {
      "provenance": []
    },
    "kernelspec": {
      "name": "ir",
      "display_name": "R"
    },
    "language_info": {
      "name": "R"
    }
  },
  "cells": [
    {
      "cell_type": "markdown",
      "source": [
        "\n",
        "# Impact of Marketing Campaign on Daily Website Visitors\n",
        "\n",
        "---\n",
        "\n",
        "\n",
        "© 2024, Zaka AI, Inc. All Rights Reserved"
      ],
      "metadata": {
        "id": "_DJplSC-SWlU"
      }
    },
    {
      "cell_type": "markdown",
      "source": [
        "**Case-Study:** A company claims that their new marketing campaign has increased the average number of daily website visitors. You, as a data analyst, want to investigate whether there is evidence to support this claim.\n",
        "\n"
      ],
      "metadata": {
        "id": "Cj_vy7PNShn4"
      }
    },
    {
      "cell_type": "markdown",
      "source": [
        "## Define the  data\n",
        "\n",
        "The company has collected data about daily website visitors  for the past two weeks (14 days) before and after the marketing campaign. Each day's visitors count is recorded in two separate vectors: before and after."
      ],
      "metadata": {
        "id": "Ojoopt14TRtj"
      }
    },
    {
      "cell_type": "code",
      "source": [
        "before <- c(120, 150, 140, 160, 130, 135, 125, 145, 155, 130, 135, 140, 125, 130)\n",
        "after <- c(140, 155, 165, 150, 145, 160, 175, 150, 165, 155, 160, 145, 165, 150)"
      ],
      "metadata": {
        "id": "c3HIMMrBTVyX"
      },
      "execution_count": null,
      "outputs": []
    },
    {
      "cell_type": "markdown",
      "source": [
        "## Setting The Hypotheses\n",
        "Define the null and alternative hypotheses for this scenario in terms of average daily website visitors."
      ],
      "metadata": {
        "id": "ctalny0eSsyT"
      }
    },
    {
      "cell_type": "markdown",
      "source": [
        "**Null Hypothesis (H0):** The marketing campaign has not increased the average daily website visitors.\n",
        "\n",
        "**Alternative Hypothesis (H1):** The marketing campaign has increased the average daily website visitors.\n"
      ],
      "metadata": {
        "id": "-1mEPkqdTHI6"
      }
    },
    {
      "cell_type": "markdown",
      "source": [
        "## Conducting the Test\n",
        "Use t-test to perform a hypothesis test to determine if there is evidence to support the claim that the marketing campaign has increased the average daily website visitors. Use a significance level of 0.05 (αlpha = 0.05).\n"
      ],
      "metadata": {
        "id": "GSeti2mZS0df"
      }
    },
    {
      "cell_type": "markdown",
      "source": [
        "### T-test from scratch"
      ],
      "metadata": {
        "id": "QBylGgrxOkQw"
      }
    },
    {
      "cell_type": "markdown",
      "source": [
        "![Screenshot 2023-10-24 at 10.51.28 PM.jpg](data:image/jpeg;base64,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)"
      ],
      "metadata": {
        "id": "SyEMQSChQvKM"
      }
    },
    {
      "cell_type": "markdown",
      "source": [
        "Calculate the components of the t-score formula"
      ],
      "metadata": {
        "id": "halw002yRqik"
      }
    },
    {
      "cell_type": "code",
      "source": [
        "# Step 1: Calculate the sample means for both groups\n",
        "mean_before <- mean(before)\n",
        "mean_after <- mean(after)\n",
        "\n",
        "# Step 2: Calculate the sample variances for both groups, remember that the square of the standard deviation is = variance\n",
        "var_before <-  var(before)\n",
        "var_after <-  var(after)\n",
        "\n",
        "# Step 3: Calculate the sample sizes for both groups\n",
        "n_before <- length(before)\n",
        "n_after <- length(after)\n",
        "\n",
        "# Step 4: Calculate the standard error of the difference between the two means\n",
        "se_diff <- sqrt(var_before / n_before + var_after / n_after)"
      ],
      "metadata": {
        "id": "yf1MxieONpb2"
      },
      "execution_count": null,
      "outputs": []
    },
    {
      "cell_type": "markdown",
      "source": [
        "Generate the values of the means, t-score, degree of freedom and P-value"
      ],
      "metadata": {
        "id": "ZaZm-5uOR9_n"
      }
    },
    {
      "cell_type": "code",
      "source": [
        "# Step 5: Calculate the t-value\n",
        "t_value <- (mean_after - mean_before) / se_diff\n",
        "\n",
        "# Step 6: Calculate the degrees of freedom using the Welch-Satterthwaite equation\n",
        "numerator <- (var_before / n_before + var_after / n_after)^2\n",
        "denominator <- ((var_before / n_before)^2 / (n_before - 1)) + ((var_after / n_after)^2 / (n_after - 1))\n",
        "df <- numerator / denominator\n",
        "\n",
        "\n",
        "# Step 7: Calculate the p-value for the one-tailed test\n",
        "# Using the pt function, which gives the cumulative distribution function cdf() for the t-distribution\n",
        "p_value <- 1 - pt(t_value, df)\n",
        "\n",
        "# Print the results\n",
        "cat(\"Sample Mean (Before):\", mean_before, \"\\n\")\n",
        "cat(\"Sample Mean (After):\", mean_after, \"\\n\")\n",
        "cat(\"t-value:\", t_value, \"\\n\")\n",
        "cat(\"Degrees of Freedom:\", df, \"\\n\")\n",
        "cat(\"p-value:\", p_value, \"\\n\")"
      ],
      "metadata": {
        "id": "40vhrJR9RTte",
        "colab": {
          "base_uri": "https://localhost:8080/"
        },
        "outputId": "c12272ce-6e5a-49ba-ace6-a610cc9e2677"
      },
      "execution_count": null,
      "outputs": [
        {
          "output_type": "stream",
          "name": "stdout",
          "text": [
            "Sample Mean (Before): 137.1429 \n",
            "Sample Mean (After): 155.7143 \n",
            "t-value: 4.515506 \n",
            "Degrees of Freedom: 25.07026 \n",
            "p-value: 6.503605e-05 \n"
          ]
        }
      ]
    },
    {
      "cell_type": "markdown",
      "source": [
        "Why do you think we tended to use the one-tail version of the T-test instead of the two-tails one?"
      ],
      "metadata": {
        "id": "EWniUglIvBwy"
      }
    },
    {
      "cell_type": "markdown",
      "source": [
        "**Share your Zaka**\n",
        "\n",
        "**Since the company believes their marketing campaign has increased the number of visitors, they have a specific direction in mind (an increase). Therefore, we use a one-tailed T-test, which tests only for an increase (i.e., whether the \"after\" group has a higher mean than the \"before\" group). If the company didn't have a direction (i.e., if they were just testing for any change, whether an increase or decrease), a two-tailed test would be used, which checks for any difference in either direction.**"
      ],
      "metadata": {
        "id": "58s_gz3PvwJE"
      }
    },
    {
      "cell_type": "markdown",
      "source": [],
      "metadata": {
        "id": "FV1CTI4BtNSG"
      }
    },
    {
      "cell_type": "markdown",
      "source": [
        "### T-test using t.test function"
      ],
      "metadata": {
        "id": "uq0Mxc-NSDRQ"
      }
    },
    {
      "cell_type": "markdown",
      "source": [
        "Use the t.test() built-in R function to get the p-value"
      ],
      "metadata": {
        "id": "_4ei4ati4us0"
      }
    },
    {
      "cell_type": "code",
      "source": [
        "result <- t.test(before,\n",
        "                after,\n",
        "                alternative = \"greater\")\n",
        "\n",
        "# Print the results\n",
        "cat(\"t-value:\", result$statistic, \"\\n\")\n",
        "cat(\"Degrees of Freedom:\", result$parameter, \"\\n\")\n",
        "cat(\"p-value:\", result$p.value, \"\\n\")"
      ],
      "metadata": {
        "id": "TigUchnhTb4m",
        "colab": {
          "base_uri": "https://localhost:8080/"
        },
        "outputId": "a009a72a-265b-4419-a30d-15acdf92ffbb"
      },
      "execution_count": null,
      "outputs": [
        {
          "output_type": "stream",
          "name": "stdout",
          "text": [
            "t-value: -4.515506 \n",
            "Degrees of Freedom: 25.07026 \n",
            "p-value: 0.999935 \n"
          ]
        }
      ]
    },
    {
      "cell_type": "markdown",
      "source": [
        "## Analysing the Result\n",
        "Print the p-value obtained from the hypothesis test.\n",
        "Based on the p-value, write a conclusion regarding the company's claim."
      ],
      "metadata": {
        "id": "n2anZuuvS6eZ"
      }
    },
    {
      "cell_type": "code",
      "execution_count": null,
      "metadata": {
        "id": "w2SkPqc2SIqu",
        "colab": {
          "base_uri": "https://localhost:8080/"
        },
        "outputId": "673b3342-7c20-4e6b-b271-b0fa059e746c"
      },
      "outputs": [
        {
          "output_type": "stream",
          "name": "stdout",
          "text": [
            "[1] 0.999935\n",
            "Based on the p-value of 0.999935 , we fail to reject the null hypothesis.There is no evidence to support the claim that the marketing campaign has increased the average daily website visitors."
          ]
        }
      ],
      "source": [
        "print(result$p.value)\n",
        "\n",
        "if (result$p.value < 0.05) {\n",
        "  cat(\"Based on the p-value of\", result$p.value, \", we reject the null hypothesis.\")\n",
        "  cat(\"There is evidence to support the claim that the marketing campaign has increased the average daily website visitors.\")\n",
        "} else {\n",
        "  cat(\"Based on the p-value of\", result$p.value, \", we fail to reject the null hypothesis.\")\n",
        "  cat(\"There is no evidence to support the claim that the marketing campaign has increased the average daily website visitors.\")\n",
        "}"
      ]
    },
    {
      "cell_type": "markdown",
      "source": [
        "## Anova Test"
      ],
      "metadata": {
        "id": "fUXNj5jmeT65"
      }
    },
    {
      "cell_type": "code",
      "source": [
        "before <- c(120, 150, 140, 160, 130, 135, 125, 145, 155, 130, 135, 140, 125, 130)\n",
        "campaign_1 <- c(140, 155, 165, 150, 145, 160, 175, 150, 165, 155, 160, 145, 165, 150)\n",
        "campaign_2 <- c(130, 145, 155, 140, 135, 150, 165, 140, 155, 145, 150, 135, 155, 140)\n"
      ],
      "metadata": {
        "id": "aQjgOq6fWblv"
      },
      "execution_count": null,
      "outputs": []
    },
    {
      "cell_type": "markdown",
      "source": [
        "Combine the 3 vectors in a single data frame, to apply the ANOVA test and get the F-statistic value for the current cases."
      ],
      "metadata": {
        "id": "xyIL1s-A5P4A"
      }
    },
    {
      "cell_type": "code",
      "source": [
        "# Combine the data into a data frame\n",
        "data <- data.frame(\n",
        "  Visitors = c(before, campaign_1, campaign_2),\n",
        "  Period = factor(rep(c(\"Before\", \"Campaign 1\", \"Campaign 2\"), each = 14))\n",
        ")\n",
        "\n",
        "# Perform ANOVA\n",
        "anova_result <- aov(Visitors ~ Period, data = data)\n",
        "summary(anova_result)\n"
      ],
      "metadata": {
        "id": "jUR0cM3mWcbA",
        "colab": {
          "base_uri": "https://localhost:8080/",
          "height": 104
        },
        "outputId": "74706ab3-050d-42cc-95b7-4ad491f68cf9"
      },
      "execution_count": null,
      "outputs": [
        {
          "output_type": "display_data",
          "data": {
            "text/plain": [
              "            Df Sum Sq Mean Sq F value   Pr(>F)    \n",
              "Period       2   2419  1209.5   10.92 0.000172 ***\n",
              "Residuals   39   4321   110.8                     \n",
              "---\n",
              "Signif. codes:  0 ‘***’ 0.001 ‘**’ 0.01 ‘*’ 0.05 ‘.’ 0.1 ‘ ’ 1"
            ]
          },
          "metadata": {}
        }
      ]
    },
    {
      "cell_type": "markdown",
      "source": [
        "Interpret the results while considering the significance value alpha to be 0.05"
      ],
      "metadata": {
        "id": "NsYDTlmv5tiX"
      }
    },
    {
      "cell_type": "code",
      "source": [
        "# Get the summary of the ANOVA\n",
        "summary_anova <- summary(anova_result)\n",
        "\n",
        "# Extract the p-value based on the F-value and the degree of freedom\n",
        "anova_p_value <- summary_anova[[1]]$`Pr(>F)`[1]\n",
        "\n",
        "cat(\"ANOVA P-Value:\", format(anova_p_value, scientific = TRUE, digits = 5), \"\\n\")\n",
        "\n",
        "if (anova_p_value < 0.05) {\n",
        "  cat(\"The p-value is less than 0.05. Reject the null hypothesis.\\n\")\n",
        "  cat(\"This suggests that there is a significant difference in the average number of visitors across the three different groups.\\n\")\n",
        "} else {\n",
        "  cat(\"The p-value is greater than or equal to 0.05. Fail to reject the null hypothesis.\\n\")\n",
        "  cat(\"This suggests that there is no significant difference in the average number of visitors across the three different groups.\\n\")\n",
        "}\n",
        "\n"
      ],
      "metadata": {
        "id": "9MwElyXEYLek",
        "colab": {
          "base_uri": "https://localhost:8080/"
        },
        "outputId": "cd0e3659-b002-4d78-b754-c3619711d527"
      },
      "execution_count": null,
      "outputs": [
        {
          "output_type": "stream",
          "name": "stdout",
          "text": [
            "ANOVA P-Value: 1.719e-04 \n",
            "The p-value is less than 0.05. Reject the null hypothesis.\n",
            "This suggests that there is a significant difference in the average number of visitors across the three different groups.\n"
          ]
        }
      ]
    }
  ]
}